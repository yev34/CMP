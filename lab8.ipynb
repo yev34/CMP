{
 "cells": [
  {
   "cell_type": "code",
   "execution_count": 1,
   "metadata": {},
   "outputs": [
    {
     "name": "stdout",
     "output_type": "stream",
     "text": [
      "The value of a function at a point x1= 0.159 using Newton*s First Interpolation Formula 4.90372\n",
      "The value of a function at a point x2= 0.234 using Newton*s Second Interpolation Formula 8.08471\n"
     ]
    }
   ],
   "source": [
    "import numpy as np\n",
    "from math import factorial\n",
    "\n",
    "x=[0.15, 0.16, 0.17, 0.18, 0.19, 0.2]\n",
    "y=[4.4817 ,4.9530, 5.4739, 6.0496, 6.6859, 7.3891]\n",
    "h = x[1] - x[0]\n",
    "x1=0.159\n",
    "x2=0.234\n",
    "q=(x1 - x[0])/h\n",
    "q1 = (x2-x[-1])/h\n",
    "def n(y,j): \n",
    "    mas=[]\n",
    "    for i in range(len(y)):\n",
    "        mas.append(y[i] - y[i-1])\n",
    "    mas.pop(0)  \n",
    "    if j == 1:\n",
    "        return mas\n",
    "    else:\n",
    "        j-=1\n",
    "        return n(mas, j)\n",
    "  \n",
    "s_1 = y[0]+q*n(y,1)[0]+q*(q-1)*n(y,2)[0]/factorial(2)\n",
    "s_2 = q*(q-1)*(q-2)*n(y,3)[0]/factorial(3)\n",
    "s_3 = q*(q-1)*(q-2)*(q-3)*n(y,4)[0]/factorial(4)\n",
    "s_4 = q*(q-1)*(q-2)*(q-3)*(q-4)*n(y,5)[0]/factorial(5)\n",
    "n_1 = s_1 + s_2 + s_3 + s_4\n",
    "print ('The value of a function at a point x1=', x1, 'using Newton*s First Interpolation Formula', round(n_1,5))\n",
    "r_1 = y[5]+q*n(y,1)[4]+q*(q+1)*n(y,2)[3]/factorial(2)\n",
    "r_2 = q*(q+1)*(q+2)*n(y,3)[2]/factorial(3)\n",
    "r_3 = q*(q+1)*(q+2)*(q+3)*n(y,4)[1]/factorial(4)\n",
    "r_4 = q*(q+1)*(q+2)*(q+3)*(q+4)*n(y,5)[0]/factorial(5)\n",
    "n_2 = r_1 + r_2 + r_3 + r_4\n",
    "print ('The value of a function at a point x2=', x2, 'using Newton*s Second Interpolation Formula', round(n_2,5))\n",
    "\n"
   ]
  }
 ],
 "metadata": {
  "kernelspec": {
   "display_name": "Python 3.9.7 ('studysession': venv)",
   "language": "python",
   "name": "python3"
  },
  "language_info": {
   "codemirror_mode": {
    "name": "ipython",
    "version": 3
   },
   "file_extension": ".py",
   "mimetype": "text/x-python",
   "name": "python",
   "nbconvert_exporter": "python",
   "pygments_lexer": "ipython3",
   "version": "3.9.7"
  },
  "orig_nbformat": 4,
  "vscode": {
   "interpreter": {
    "hash": "7f63a7416073098c0000a0c407c5f00f755623e9bfe69d338d7decbf4b8c594f"
   }
  }
 },
 "nbformat": 4,
 "nbformat_minor": 2
}
