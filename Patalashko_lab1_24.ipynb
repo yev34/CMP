{
  "nbformat": 4,
  "nbformat_minor": 0,
  "metadata": {
    "colab": {
      "provenance": [],
      "authorship_tag": "ABX9TyPUrF+yiLU9Be8ye3hDNs9V",
      "include_colab_link": true
    },
    "kernelspec": {
      "name": "python3",
      "display_name": "Python 3"
    },
    "language_info": {
      "name": "python"
    }
  },
  "cells": [
    {
      "cell_type": "markdown",
      "metadata": {
        "id": "view-in-github",
        "colab_type": "text"
      },
      "source": [
        "<a href=\"https://colab.research.google.com/github/yev34/CMP/blob/main/Patalashko_lab1_24.ipynb\" target=\"_parent\"><img src=\"https://colab.research.google.com/assets/colab-badge.svg\" alt=\"Open In Colab\"/></a>"
      ]
    },
    {
      "cell_type": "markdown",
      "source": [
        "Створіть одновимірний масив (вектор) з числами, які є оберненими значеннями\n",
        "простих чисел, починаючи з 2, та виведіть його значення."
      ],
      "metadata": {
        "id": "MD6C93SFpd39"
      }
    },
    {
      "cell_type": "code",
      "source": [
        "import sympy as sp\n",
        "primes = list(sp.primerange(2, 30))\n",
        "inverse_primes = [1/p for p in primes]\n",
        "inverse_primes\n"
      ],
      "metadata": {
        "colab": {
          "base_uri": "https://localhost:8080/"
        },
        "collapsed": true,
        "id": "Pa0thiempgul",
        "outputId": "6b815c1e-9180-4917-f285-1c1be7cc57c3"
      },
      "execution_count": 1,
      "outputs": [
        {
          "output_type": "execute_result",
          "data": {
            "text/plain": [
              "[0.5,\n",
              " 0.3333333333333333,\n",
              " 0.2,\n",
              " 0.14285714285714285,\n",
              " 0.09090909090909091,\n",
              " 0.07692307692307693,\n",
              " 0.058823529411764705,\n",
              " 0.05263157894736842,\n",
              " 0.043478260869565216,\n",
              " 0.034482758620689655]"
            ]
          },
          "metadata": {},
          "execution_count": 1
        }
      ]
    },
    {
      "cell_type": "markdown",
      "source": [
        "Створіть двовимірний масив (матрицю) розміром 3x3, заповніть його значеннями\n",
        "квадратних коренів перших натуральних чисел."
      ],
      "metadata": {
        "id": "UvBWhQkoqWRE"
      }
    },
    {
      "cell_type": "code",
      "source": [
        "import numpy as np\n",
        "\n",
        "natural_numbers = np.arange(1, 10)\n",
        "\n",
        "sqrt_numbers = np.sqrt(natural_numbers)\n",
        "\n",
        "matrix = sqrt_numbers.reshape((3, 3))\n",
        "\n",
        "print(matrix)\n"
      ],
      "metadata": {
        "colab": {
          "base_uri": "https://localhost:8080/"
        },
        "collapsed": true,
        "id": "nGEFiUpNqXDN",
        "outputId": "0719651d-81c2-4a2a-e682-9a1d10222aee"
      },
      "execution_count": 2,
      "outputs": [
        {
          "output_type": "stream",
          "name": "stdout",
          "text": [
            "[[1.         1.41421356 1.73205081]\n",
            " [2.         2.23606798 2.44948974]\n",
            " [2.64575131 2.82842712 3.        ]]\n"
          ]
        }
      ]
    },
    {
      "cell_type": "markdown",
      "source": [
        "Створіть масив розміром 3x3, заповніть його випадковими цілими числами від -10 до\n",
        "10 та знайдіть суму елементів кожного рядка."
      ],
      "metadata": {
        "id": "gwAdmwPkrnZV"
      }
    },
    {
      "cell_type": "code",
      "source": [
        "import numpy as np\n",
        "\n",
        "matrix = np.random.randint(-10, 11, size=(3, 3))\n",
        "\n",
        "row_sums = np.sum(matrix, axis=1)\n",
        "\n",
        "print(\"Matrix:\\n\", matrix)\n",
        "print(\"Sum of each row:\", row_sums)\n"
      ],
      "metadata": {
        "colab": {
          "base_uri": "https://localhost:8080/"
        },
        "collapsed": true,
        "id": "ZNjQaHUKroW2",
        "outputId": "f049e443-e9c4-4970-ce0f-681e8f9888b8"
      },
      "execution_count": 6,
      "outputs": [
        {
          "output_type": "stream",
          "name": "stdout",
          "text": [
            "Matrix:\n",
            " [[-10   2   3]\n",
            " [  0   4   1]\n",
            " [-10  -7  10]]\n",
            "Sum of each row: [-5  5 -7]\n"
          ]
        }
      ]
    },
    {
      "cell_type": "markdown",
      "source": [
        "Створіть масив розміром 4x4, заповніть його випадковими дійсними числами від -1.0\n",
        "до 1.0 та виведіть його значення."
      ],
      "metadata": {
        "id": "JcuHCUaFroum"
      }
    },
    {
      "cell_type": "code",
      "source": [
        "import numpy as np\n",
        "\n",
        "array = np.random.uniform(-1.0, 1.0, (4, 4))\n",
        "\n",
        "print(array)\n"
      ],
      "metadata": {
        "colab": {
          "base_uri": "https://localhost:8080/"
        },
        "collapsed": true,
        "id": "ohha1WixrpIc",
        "outputId": "ae2e0950-9158-429b-a702-c9cd2d3dfec7"
      },
      "execution_count": 5,
      "outputs": [
        {
          "output_type": "stream",
          "name": "stdout",
          "text": [
            "[[-0.14759713  0.73429219 -0.40840142 -0.43228404]\n",
            " [ 0.13315211  0.19372631  0.99143286 -0.90874724]\n",
            " [-0.35055334 -0.05707728 -0.28265599 -0.54391465]\n",
            " [ 0.34970578 -0.91927847  0.05639879  0.32371393]]\n"
          ]
        }
      ]
    },
    {
      "cell_type": "markdown",
      "source": [
        "Створіть два одновимірних масиви розміром 8, заповніть їх випадковими цілими\n",
        "числами в діапазоні від 5 до 10 та виконайте на них поелементні операції додавання,\n",
        "віднімання та множення"
      ],
      "metadata": {
        "id": "ndmNdjqVrpuB"
      }
    },
    {
      "cell_type": "code",
      "source": [
        "import numpy as np\n",
        "\n",
        "array1 = np.random.randint(5, 11, 8)\n",
        "array2 = np.random.randint(5, 11, 8)\n",
        "\n",
        "addition = array1 + array2\n",
        "subtraction = array1 - array2\n",
        "multiplication = array1 * array2\n",
        "\n",
        "print(\"Array 1:\", array1)\n",
        "print(\"Array 2:\", array2)\n",
        "print(\"Addition:\", addition)\n",
        "print(\"Subtraction:\", subtraction)\n",
        "print(\"Multiplication:\", multiplication)\n"
      ],
      "metadata": {
        "colab": {
          "base_uri": "https://localhost:8080/"
        },
        "collapsed": true,
        "id": "Ci22pwY6rqAF",
        "outputId": "bbd094d3-f266-4aea-826d-e0ec1f4de7df"
      },
      "execution_count": 4,
      "outputs": [
        {
          "output_type": "stream",
          "name": "stdout",
          "text": [
            "Array 1: [ 6  6  6  5 10 10  9  9]\n",
            "Array 2: [10  9  8 10  9 10  8  6]\n",
            "Addition: [16 15 14 15 19 20 17 15]\n",
            "Subtraction: [-4 -3 -2 -5  1  0  1  3]\n",
            "Multiplication: [ 60  54  48  50  90 100  72  54]\n"
          ]
        }
      ]
    },
    {
      "cell_type": "markdown",
      "source": [
        "Створіть дві матриці 4x4, заповніть їх довільними цілими числами від 1 до 15 та\n",
        "знайдіть їх добуток."
      ],
      "metadata": {
        "id": "iPb_5IwWrqNh"
      }
    },
    {
      "cell_type": "code",
      "source": [
        "import numpy as np\n",
        "\n",
        "array1 = np.random.randint (1,15, size =(4,4))\n",
        "array2 = np.random.randint (1,15, size =(4,4))\n",
        "\n",
        "mult= array1 * array2\n",
        "\n",
        "print(\"Array 1:\", array1)\n",
        "print(\"Array 2:\", array2)\n",
        "print(\"Multiplication:\", mult)"
      ],
      "metadata": {
        "colab": {
          "base_uri": "https://localhost:8080/"
        },
        "collapsed": true,
        "id": "bTgSWIiTrqcm",
        "outputId": "b365ba8b-4c55-4422-aeb0-3ea8b0c7608d"
      },
      "execution_count": 3,
      "outputs": [
        {
          "output_type": "stream",
          "name": "stdout",
          "text": [
            "Array 1: [[ 3 11  4 14]\n",
            " [ 7  2  4 10]\n",
            " [14  3  9 14]\n",
            " [12  2  6  8]]\n",
            "Array 2: [[ 7 14 11 14]\n",
            " [13  9  4  5]\n",
            " [ 1  4 13  4]\n",
            " [ 3  9 12  3]]\n",
            "Multiplication: [[ 21 154  44 196]\n",
            " [ 91  18  16  50]\n",
            " [ 14  12 117  56]\n",
            " [ 36  18  72  24]]\n"
          ]
        }
      ]
    },
    {
      "cell_type": "markdown",
      "source": [
        "Створіть дві матриці розміром 4x2 та 2x2, заповніть їх випадковими цілими числами\n",
        "в діапазоні від 1 до 6 та перемножте їх між собою."
      ],
      "metadata": {
        "id": "NMISrIpar8Lc"
      }
    },
    {
      "cell_type": "code",
      "source": [
        "import numpy as np\n",
        "\n",
        "matrix1 = np.random.randint(1, 7, (4, 2))\n",
        "\n",
        "matrix2 = np.random.randint(1, 7, (2, 2))\n",
        "\n",
        "result = np.dot(matrix1, matrix2)\n",
        "\n",
        "print(\"Matrix 1 (4x2):\")\n",
        "print(matrix1)\n",
        "print(\"\\nMatrix 2 (2x2):\")\n",
        "print(matrix2)\n",
        "print(\"\\nResult of multiplication:\")\n",
        "print(result)\n"
      ],
      "metadata": {
        "id": "yfl0tC9jr8YK"
      },
      "execution_count": null,
      "outputs": []
    },
    {
      "cell_type": "markdown",
      "source": [
        "Створіть матрицю розміром 3x3, заповніть її випадковими цілими числами в діапазоні\n",
        "від 1 до 10 та знайдіть її обернену матрицю."
      ],
      "metadata": {
        "id": "KAXPZn8Pr8po"
      }
    },
    {
      "cell_type": "code",
      "source": [
        "import numpy as np\n",
        "matrix = np.random.randint(1, 11, (3, 3))\n",
        "\n",
        "print(\"Original Matrix:\")\n",
        "print(matrix)\n",
        "\n",
        "determinant = np.linalg.det(matrix)\n",
        "\n",
        "inverse_matrix = np.linalg.inv(matrix)\n",
        "print(\"\\nInverse Matrix:\")\n",
        "print(inverse_matrix)\n"
      ],
      "metadata": {
        "colab": {
          "base_uri": "https://localhost:8080/"
        },
        "collapsed": true,
        "id": "nhxOVf-lr81L",
        "outputId": "bd87d622-ddc1-4cc6-c99c-ce2a1e667e6f"
      },
      "execution_count": 12,
      "outputs": [
        {
          "output_type": "stream",
          "name": "stdout",
          "text": [
            "Original Matrix:\n",
            "[[5 1 7]\n",
            " [1 4 7]\n",
            " [1 3 9]]\n",
            "\n",
            "Inverse Matrix:\n",
            "[[ 0.22727273  0.18181818 -0.31818182]\n",
            " [-0.03030303  0.57575758 -0.42424242]\n",
            " [-0.01515152 -0.21212121  0.28787879]]\n"
          ]
        }
      ]
    },
    {
      "cell_type": "markdown",
      "source": [
        "Створіть матрицю розміром 4x4, заповніть її випадковими дійсними числами в\n",
        "діапазоні від 0 до 100 та транспонуйте її."
      ],
      "metadata": {
        "id": "ml-4KygKr9FL"
      }
    },
    {
      "cell_type": "code",
      "source": [
        "import numpy as np\n",
        "\n",
        "matrix = np.random.uniform(0, 100, (4, 4))\n",
        "\n",
        "print(\"Original Matrix:\")\n",
        "print(matrix)\n",
        "\n",
        "transposed_matrix = np.transpose(matrix)\n",
        "\n",
        "print(\"\\nTransposed Matrix:\")\n",
        "print(transposed_matrix)\n"
      ],
      "metadata": {
        "colab": {
          "base_uri": "https://localhost:8080/"
        },
        "collapsed": true,
        "id": "45MlVFM4r9Q6",
        "outputId": "0765a419-505a-43a7-feff-ca61c4e514e4"
      },
      "execution_count": 13,
      "outputs": [
        {
          "output_type": "stream",
          "name": "stdout",
          "text": [
            "Original Matrix:\n",
            "[[69.39839434 85.81590783 69.46968612 41.38063251]\n",
            " [44.40469064 70.74354814 28.40426087 83.65835445]\n",
            " [27.47093305 64.17167856 87.8797443  15.54609893]\n",
            " [56.02721904 56.03334483 67.50484174 22.79361573]]\n",
            "\n",
            "Transposed Matrix:\n",
            "[[69.39839434 44.40469064 27.47093305 56.02721904]\n",
            " [85.81590783 70.74354814 64.17167856 56.03334483]\n",
            " [69.46968612 28.40426087 87.8797443  67.50484174]\n",
            " [41.38063251 83.65835445 15.54609893 22.79361573]]\n"
          ]
        }
      ]
    },
    {
      "cell_type": "markdown",
      "source": [
        "Створіть матрицю розміром 3x4 та вектор розміром 4x1, заповніть матрицю\n",
        "випадковими дійсними числами від 0 до 1, а вектор - випадковими цілими числами в\n",
        "діапазоні від 1 до 10, і знайдіть добуток матриці на вектор."
      ],
      "metadata": {
        "id": "LX-mEH77r9d-"
      }
    },
    {
      "cell_type": "code",
      "source": [
        "import numpy as np\n",
        "\n",
        "matrix = np.random.uniform(0, 1, (3, 4))\n",
        "\n",
        "vector = np.random.randint(1, 11, (4, 1))\n",
        "\n",
        "print(\"Matrix (3x4):\")\n",
        "print(matrix)\n",
        "print(\"\\nVector (4x1):\")\n",
        "print(vector)\n",
        "\n",
        "result = np.dot(matrix, vector)\n",
        "\n",
        "print(\"\\nResult of multiplication (3x1):\")\n",
        "print(result)\n"
      ],
      "metadata": {
        "colab": {
          "base_uri": "https://localhost:8080/"
        },
        "collapsed": true,
        "id": "2kUI6WOVr9sy",
        "outputId": "489aec5f-6106-4a4f-be6f-43d6b0c0eb53"
      },
      "execution_count": 15,
      "outputs": [
        {
          "output_type": "stream",
          "name": "stdout",
          "text": [
            "Matrix (3x4):\n",
            "[[0.8772229  0.43991272 0.55849885 0.87372609]\n",
            " [0.48218973 0.94190693 0.88333356 0.25273965]\n",
            " [0.97362105 0.69628842 0.94818799 0.12149439]]\n",
            "\n",
            "Vector (4x1):\n",
            "[[8]\n",
            " [5]\n",
            " [8]\n",
            " [9]]\n",
            "\n",
            "Result of multiplication (3x1):\n",
            "[[21.54887245]\n",
            " [17.90837777]\n",
            " [19.94936388]]\n"
          ]
        }
      ]
    },
    {
      "cell_type": "markdown",
      "source": [
        "Створіть матрицю розміром 2x3 та вектор розміром 3x1, заповніть матрицю\n",
        "випадковими цілими числами в діапазоні від 1 до 10, а вектор - випадковими дійсними\n",
        "числами від 0 до 1, і знайдіть добуток матриці на вектор."
      ],
      "metadata": {
        "id": "GUREK1tqr95X"
      }
    },
    {
      "cell_type": "code",
      "source": [
        "import numpy as np\n",
        "\n",
        "matrix = np.random.randint(1, 10, (2, 3))\n",
        "\n",
        "vector = np.random.uniform(0, 1, (3, 1))\n",
        "\n",
        "print(\"Matrix (3x4):\")\n",
        "print(matrix)\n",
        "print(\"\\nVector (4x1):\")\n",
        "print(vector)\n",
        "\n",
        "result = np.dot(matrix, vector)\n",
        "\n",
        "print(\"\\nResult of multiplication (3x1):\")\n",
        "print(result)\n"
      ],
      "metadata": {
        "colab": {
          "base_uri": "https://localhost:8080/"
        },
        "collapsed": true,
        "id": "IRg_bPQWr-GU",
        "outputId": "7106a436-2667-4ba4-9ac9-77b283855979"
      },
      "execution_count": 16,
      "outputs": [
        {
          "output_type": "stream",
          "name": "stdout",
          "text": [
            "Matrix (3x4):\n",
            "[[7 4 3]\n",
            " [5 4 3]]\n",
            "\n",
            "Vector (4x1):\n",
            "[[0.53662904]\n",
            " [0.21637773]\n",
            " [0.61353166]]\n",
            "\n",
            "Result of multiplication (3x1):\n",
            "[[6.46250919]\n",
            " [5.38925111]]\n"
          ]
        }
      ]
    },
    {
      "cell_type": "markdown",
      "source": [
        "Створіть дві матриці розміром 2x2, заповніть їх випадковими цілими числами в\n",
        "діапазоні від -5 до 3 та знайдіть добуток всіх елементів другої матриці."
      ],
      "metadata": {
        "id": "6n4A9dDTr-S1"
      }
    },
    {
      "cell_type": "code",
      "source": [
        "import numpy as np\n",
        "\n",
        "array1 = np.random.randint(-5, 3, (2,2))\n",
        "array2 = np.random.randint(-5, 3, (2,2))\n",
        "\n",
        "mult = np.prod(array2)\n",
        "\n",
        "print(\"Array 1:\", array1)\n",
        "print(\"Array 2:\", array2)\n",
        "print(\"Multiplication:\", mult)"
      ],
      "metadata": {
        "colab": {
          "base_uri": "https://localhost:8080/"
        },
        "collapsed": true,
        "id": "Ne63cU7qshCy",
        "outputId": "dfe1f0c6-4366-45b7-f766-e669b6d7643a"
      },
      "execution_count": 17,
      "outputs": [
        {
          "output_type": "stream",
          "name": "stdout",
          "text": [
            "Array 1: [[ 1 -4]\n",
            " [ 2 -2]]\n",
            "Array 2: [[-5 -4]\n",
            " [ 2  2]]\n",
            "Multiplication: 80\n"
          ]
        }
      ]
    },
    {
      "cell_type": "markdown",
      "source": [
        "Створіть дві матриці розміром 3x3, заповніть їх випадковими цілими числами в\n",
        "діапазоні від -1 до 5 та знайдіть добуток їх елементів."
      ],
      "metadata": {
        "id": "fijzocersfhM"
      }
    },
    {
      "cell_type": "code",
      "source": [
        "import numpy as np\n",
        "\n",
        "matrix1 = np.random.randint(-1, 5, (3, 3))\n",
        "\n",
        "matrix2 = np.random.randint(-1, 5, (3, 3))\n",
        "\n",
        "print(\"Matrix 1 (3x3):\")\n",
        "print(matrix1)\n",
        "print(\"\\nMatrix 2 (3x3):\")\n",
        "print(matrix2)\n",
        "\n",
        "product_matrix1 = np.prod(matrix1)\n",
        "product_matrix2 = np.prod(matrix2)\n",
        "\n",
        "print(\"\\nProduct of all elements in Matrix 1:\")\n",
        "print(product_matrix1)\n",
        "print(\"\\nProduct of all elements in Matrix 2:\")\n",
        "print(product_matrix2)"
      ],
      "metadata": {
        "colab": {
          "base_uri": "https://localhost:8080/"
        },
        "collapsed": true,
        "id": "3jj9XoVHr-eI",
        "outputId": "3ef6c8d1-241b-4e7e-e1d2-97ebbc559744"
      },
      "execution_count": 19,
      "outputs": [
        {
          "output_type": "stream",
          "name": "stdout",
          "text": [
            "Matrix 1 (3x3):\n",
            "[[ 3  1  2]\n",
            " [-1  0  4]\n",
            " [ 3  3 -1]]\n",
            "\n",
            "Matrix 2 (3x3):\n",
            "[[ 1  4  3]\n",
            " [ 3 -1  1]\n",
            " [ 4  4  4]]\n",
            "\n",
            "Product of all elements in Matrix 1:\n",
            "0\n",
            "\n",
            "Product of all elements in Matrix 2:\n",
            "-2304\n"
          ]
        }
      ]
    },
    {
      "cell_type": "markdown",
      "source": [
        "Створіть матрицю розміром 3x3, заповніть її випадковими цілими числами в діапазоні\n",
        "від 1 до 10 та знайдіть суму елементів на побічній діагоналі."
      ],
      "metadata": {
        "id": "pz54AExHsh1E"
      }
    },
    {
      "cell_type": "code",
      "source": [
        "import numpy as np\n",
        "\n",
        "matrix = np.random.randint(1, 10, (3, 3))\n",
        "\n",
        "print(\"Matrix (3x3):\")\n",
        "print(matrix)\n",
        "\n",
        "n = matrix.shape[0]\n",
        "secondary_diagonal_sum = np.sum([matrix[i, n - 1 - i] for i in range(n)])\n",
        "\n",
        "print(\"\\nSum of elements in the secondary diagonal:\")\n",
        "print(secondary_diagonal_sum)\n"
      ],
      "metadata": {
        "colab": {
          "base_uri": "https://localhost:8080/"
        },
        "collapsed": true,
        "id": "TgN1u4NbsqAC",
        "outputId": "acb5021b-6696-4495-eb08-e31df83df698"
      },
      "execution_count": 20,
      "outputs": [
        {
          "output_type": "stream",
          "name": "stdout",
          "text": [
            "Matrix (3x3):\n",
            "[[6 2 5]\n",
            " [9 1 5]\n",
            " [1 3 7]]\n",
            "\n",
            "Sum of elements in the secondary diagonal:\n",
            "7\n"
          ]
        }
      ]
    },
    {
      "cell_type": "markdown",
      "source": [
        "Створіть матрицю розміром 3x3, заповніть її випадковими дійсними числами в\n",
        "діапазоні від -2 до 2 та знайдіть вектор-стовпчик, що містить середнє арифметичне\n",
        "значення елементів кожного стовпця матриці."
      ],
      "metadata": {
        "id": "UrxA7s_-sml7"
      }
    },
    {
      "cell_type": "code",
      "source": [
        "import numpy as np\n",
        "\n",
        "matrix = np.random.uniform(-2, 2, (3, 3))\n",
        "\n",
        "print(\"Matrix (3x3):\")\n",
        "print(matrix)\n",
        "\n",
        "column_means = np.mean(matrix, axis=0)\n",
        "\n",
        "column_means_vector = column_means.reshape(-1, 1)\n",
        "\n",
        "print(\"\\nColumn means (as a column vector):\")\n",
        "print(column_means_vector)\n"
      ],
      "metadata": {
        "colab": {
          "base_uri": "https://localhost:8080/"
        },
        "collapsed": true,
        "id": "i15orCZVsqgo",
        "outputId": "dbaa6bde-0af8-42e8-b789-a7346ff20223"
      },
      "execution_count": 21,
      "outputs": [
        {
          "output_type": "stream",
          "name": "stdout",
          "text": [
            "Matrix (3x3):\n",
            "[[ 1.84589461  1.51036299 -0.46458212]\n",
            " [-0.18574476  1.48037     1.25595796]\n",
            " [ 0.72380664  1.55381446  0.69406301]]\n",
            "\n",
            "Column means (as a column vector):\n",
            "[[0.79465217]\n",
            " [1.51484915]\n",
            " [0.49514628]]\n"
          ]
        }
      ]
    }
  ]
}