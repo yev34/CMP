{
  "nbformat": 4,
  "nbformat_minor": 0,
  "metadata": {
    "colab": {
      "provenance": [],
      "toc_visible": true,
      "authorship_tag": "ABX9TyOXzjEeXhvkS8xQ75YLSyx4",
      "include_colab_link": true
    },
    "kernelspec": {
      "name": "python3",
      "display_name": "Python 3"
    },
    "language_info": {
      "name": "python"
    }
  },
  "cells": [
    {
      "cell_type": "markdown",
      "metadata": {
        "id": "view-in-github",
        "colab_type": "text"
      },
      "source": [
        "<a href=\"https://colab.research.google.com/github/yev34/Machine-learning/blob/main/%D0%9F%D0%B0%D1%82%D0%B0%D0%BB%D0%B0%D1%88%D0%BA%D0%BE_%D0%BB%D0%B0%D0%B1_7.ipynb\" target=\"_parent\"><img src=\"https://colab.research.google.com/assets/colab-badge.svg\" alt=\"Open In Colab\"/></a>"
      ]
    },
    {
      "cell_type": "code",
      "execution_count": 2,
      "metadata": {
        "colab": {
          "base_uri": "https://localhost:8080/"
        },
        "id": "2mvsqWq9v_BK",
        "outputId": "c1a8aa59-5d14-4996-a7dd-feffa6bae5c6"
      },
      "outputs": [
        {
          "output_type": "stream",
          "name": "stdout",
          "text": [
            "Collecting scikit-surprise\n",
            "  Downloading scikit_surprise-1.1.4.tar.gz (154 kB)\n",
            "\u001b[2K     \u001b[90m━━━━━━━━━━━━━━━━━━━━━━━━━━━━━━━━━━━━━━━━\u001b[0m \u001b[32m154.4/154.4 kB\u001b[0m \u001b[31m2.9 MB/s\u001b[0m eta \u001b[36m0:00:00\u001b[0m\n",
            "\u001b[?25h  Installing build dependencies ... \u001b[?25l\u001b[?25hdone\n",
            "  Getting requirements to build wheel ... \u001b[?25l\u001b[?25hdone\n",
            "  Preparing metadata (pyproject.toml) ... \u001b[?25l\u001b[?25hdone\n",
            "Requirement already satisfied: joblib>=1.2.0 in /usr/local/lib/python3.10/dist-packages (from scikit-surprise) (1.4.2)\n",
            "Requirement already satisfied: numpy>=1.19.5 in /usr/local/lib/python3.10/dist-packages (from scikit-surprise) (1.26.4)\n",
            "Requirement already satisfied: scipy>=1.6.0 in /usr/local/lib/python3.10/dist-packages (from scikit-surprise) (1.13.1)\n",
            "Building wheels for collected packages: scikit-surprise\n",
            "  Building wheel for scikit-surprise (pyproject.toml) ... \u001b[?25l\u001b[?25hdone\n",
            "  Created wheel for scikit-surprise: filename=scikit_surprise-1.1.4-cp310-cp310-linux_x86_64.whl size=2357286 sha256=cc8075d49d9b5c002d403c6e1d83b983d458f82efca2aa038e86ccedc58dbeec\n",
            "  Stored in directory: /root/.cache/pip/wheels/4b/3f/df/6acbf0a40397d9bf3ff97f582cc22fb9ce66adde75bc71fd54\n",
            "Successfully built scikit-surprise\n",
            "Installing collected packages: scikit-surprise\n",
            "Successfully installed scikit-surprise-1.1.4\n"
          ]
        }
      ],
      "source": [
        "!pip install scikit-surprise"
      ]
    },
    {
      "cell_type": "code",
      "source": [
        "from surprise import Dataset, Reader\n",
        "from surprise import KNNBasic, SVD\n",
        "from surprise.model_selection import cross_validate\n",
        "from surprise.model_selection import train_test_split"
      ],
      "metadata": {
        "id": "Gazxxp5syi8H"
      },
      "execution_count": 11,
      "outputs": []
    },
    {
      "cell_type": "markdown",
      "source": [
        "Завантажте датасет для рецензій (ml-100k):"
      ],
      "metadata": {
        "id": "qBqq920pwHli"
      }
    },
    {
      "cell_type": "code",
      "source": [
        "\n",
        "\n",
        "data = Dataset.load_builtin('ml-100k')"
      ],
      "metadata": {
        "id": "dk7gytmJwCG4"
      },
      "execution_count": 12,
      "outputs": []
    },
    {
      "cell_type": "markdown",
      "source": [
        "Виведіть перші 5 рядків:"
      ],
      "metadata": {
        "id": "WlOEAbRowQCV"
      }
    },
    {
      "cell_type": "code",
      "source": [
        "df = data.build_full_trainset().build_anti_testset()\n",
        "print(\"Перші 5 рецензій:\")\n",
        "for i in range(5):\n",
        "    print(df[i])"
      ],
      "metadata": {
        "colab": {
          "base_uri": "https://localhost:8080/"
        },
        "id": "o1ifVWJkwQs4",
        "outputId": "9947b9bb-6032-4503-f7ba-75ef6d3efb3a"
      },
      "execution_count": 13,
      "outputs": [
        {
          "output_type": "stream",
          "name": "stdout",
          "text": [
            "Перші 5 рецензій:\n",
            "('196', '302', 3.52986)\n",
            "('196', '377', 3.52986)\n",
            "('196', '51', 3.52986)\n",
            "('196', '346', 3.52986)\n",
            "('196', '474', 3.52986)\n"
          ]
        }
      ]
    },
    {
      "cell_type": "markdown",
      "source": [
        "Реалізуйте два алгоритми для рекомендаційної системи:"
      ],
      "metadata": {
        "id": "J07viGuSw7yu"
      }
    },
    {
      "cell_type": "code",
      "source": [
        "algo1 = KNNBasic()\n",
        "algo2 = SVD()"
      ],
      "metadata": {
        "id": "KIQvqS-4w-ag"
      },
      "execution_count": 14,
      "outputs": []
    },
    {
      "cell_type": "markdown",
      "source": [
        "Використайте крос-валідацію для підбору параметрів:"
      ],
      "metadata": {
        "id": "ymaHHbNcxJYm"
      }
    },
    {
      "cell_type": "code",
      "source": [
        "results_algo1 = cross_validate(algo1, data, measures=['MAE'], cv=5, verbose=True)\n",
        "results_algo2 = cross_validate(algo2, data, measures=['MAE'], cv=5, verbose=True)\n"
      ],
      "metadata": {
        "colab": {
          "base_uri": "https://localhost:8080/"
        },
        "id": "9qj7ya31xJli",
        "outputId": "bcf7cdd8-c321-4da2-e82f-71c6309ef467"
      },
      "execution_count": 15,
      "outputs": [
        {
          "output_type": "stream",
          "name": "stdout",
          "text": [
            "Computing the msd similarity matrix...\n",
            "Done computing similarity matrix.\n",
            "Computing the msd similarity matrix...\n",
            "Done computing similarity matrix.\n",
            "Computing the msd similarity matrix...\n",
            "Done computing similarity matrix.\n",
            "Computing the msd similarity matrix...\n",
            "Done computing similarity matrix.\n",
            "Computing the msd similarity matrix...\n",
            "Done computing similarity matrix.\n",
            "Evaluating MAE of algorithm KNNBasic on 5 split(s).\n",
            "\n",
            "                  Fold 1  Fold 2  Fold 3  Fold 4  Fold 5  Mean    Std     \n",
            "MAE (testset)     0.7759  0.7722  0.7763  0.7789  0.7650  0.7737  0.0049  \n",
            "Fit time          0.32    0.34    0.34    0.34    0.34    0.34    0.01    \n",
            "Test time         3.37    3.10    4.31    3.15    3.16    3.42    0.45    \n",
            "Evaluating MAE of algorithm SVD on 5 split(s).\n",
            "\n",
            "                  Fold 1  Fold 2  Fold 3  Fold 4  Fold 5  Mean    Std     \n",
            "MAE (testset)     0.7420  0.7381  0.7360  0.7393  0.7375  0.7386  0.0020  \n",
            "Fit time          1.78    2.27    1.43    1.41    1.42    1.66    0.33    \n",
            "Test time         0.38    0.11    0.27    0.15    0.30    0.24    0.10    \n"
          ]
        }
      ]
    },
    {
      "cell_type": "markdown",
      "source": [
        "Оберіть найкращий алгоритм:"
      ],
      "metadata": {
        "id": "2gqYL54SxY5T"
      }
    },
    {
      "cell_type": "code",
      "source": [
        "mean_mae_algo1 = results_algo1['test_mae'].mean()\n",
        "mean_mae_algo2 = results_algo2['test_mae'].mean()\n",
        "\n",
        "print(f\"MAE для KNNBasic: {mean_mae_algo1:.4f}\")\n",
        "print(f\"MAE для SVD: {mean_mae_algo2:.4f}\")\n",
        "\n",
        "best_algo = algo1 if mean_mae_algo1 < mean_mae_algo2 else algo2\n",
        "print(f\"Найкращий алгоритм: {best_algo}\")\n",
        "\n",
        "trainset = data.build_full_trainset()\n",
        "best_algo.fit(trainset)"
      ],
      "metadata": {
        "colab": {
          "base_uri": "https://localhost:8080/"
        },
        "id": "QElkUqQGxZLg",
        "outputId": "37d7d810-5c71-493b-b957-9541a49e4399"
      },
      "execution_count": 16,
      "outputs": [
        {
          "output_type": "stream",
          "name": "stdout",
          "text": [
            "MAE для KNNBasic: 0.7737\n",
            "MAE для SVD: 0.7386\n",
            "Найкращий алгоритм: <surprise.prediction_algorithms.matrix_factorization.SVD object at 0x7fc0f806d630>\n"
          ]
        },
        {
          "output_type": "execute_result",
          "data": {
            "text/plain": [
              "<surprise.prediction_algorithms.matrix_factorization.SVD at 0x7fc0f806d630>"
            ]
          },
          "metadata": {},
          "execution_count": 16
        }
      ]
    },
    {
      "cell_type": "markdown",
      "source": [
        "Вивести рекомендації для конкретного користувача:"
      ],
      "metadata": {
        "id": "eFcxEGa9xaNG"
      }
    },
    {
      "cell_type": "code",
      "source": [
        "user_id = str(67)\n",
        "items = trainset.all_items()\n",
        "\n",
        "items_not_rated = [item for item in items if not trainset.knows_item(item)]\n",
        "print(f\"Кількість фільмів, які не оцінені користувачем {user_id}: {len(items_not_rated)}\")\n",
        "\n",
        "if len(items_not_rated) == 0:\n",
        "    print(f\"Користувач {user_id} оцінив усі фільми!\")\n",
        "else:\n",
        "    predictions = [best_algo.predict(user_id, item) for item in items_not_rated]\n",
        "    print(f\"Кількість прогнозів: {len(predictions)}\")\n",
        "\n",
        "    for prediction in predictions[:5]:\n",
        "        print(f\"Movie ID: {prediction.iid}, Estimated Rating: {prediction.est:.2f}\")\n",
        "\n",
        "    top_10 = sorted(predictions, key=lambda x: x.est, reverse=True)[:10]\n",
        "    print(f\"Кількість фільмів у топ-10: {len(top_10)}\")\n",
        "\n",
        "    print(\"\\nТоп-10 рекомендацій для користувача:\")\n",
        "    for prediction in top_10:\n",
        "        print(f\"Movie ID: {prediction.iid}, Estimated Rating: {prediction.est:.2f}\")\n"
      ],
      "metadata": {
        "colab": {
          "base_uri": "https://localhost:8080/"
        },
        "id": "uX5uds8wxaWO",
        "outputId": "70751c71-984f-456b-c64f-10d0de53ffec"
      },
      "execution_count": 25,
      "outputs": [
        {
          "output_type": "stream",
          "name": "stdout",
          "text": [
            "Кількість фільмів, які не оцінені користувачем 67: 0\n",
            "Користувач 67 оцінив усі фільми!\n"
          ]
        }
      ]
    },
    {
      "cell_type": "markdown",
      "source": [
        "Завдання 2"
      ],
      "metadata": {
        "id": "UXCmkqTv0bB9"
      }
    },
    {
      "cell_type": "markdown",
      "source": [
        "1. Побудуйте власну рекомендаційну систему:\n",
        "Ви можете використовувати функцію build_full_trainset для побудови системи з використанням усіх даних і тренування моделі."
      ],
      "metadata": {
        "id": "CuGkxXqi0fgl"
      }
    },
    {
      "cell_type": "code",
      "source": [
        "trainset = data.build_full_trainset()\n",
        "algo_svd.fit(trainset)"
      ],
      "metadata": {
        "colab": {
          "base_uri": "https://localhost:8080/"
        },
        "id": "MFh_EswM0f0o",
        "outputId": "c9587e88-384d-46e5-c4a2-7da45dcbd950"
      },
      "execution_count": 26,
      "outputs": [
        {
          "output_type": "execute_result",
          "data": {
            "text/plain": [
              "<surprise.prediction_algorithms.matrix_factorization.SVD at 0x7fc0d7ff3040>"
            ]
          },
          "metadata": {},
          "execution_count": 26
        }
      ]
    },
    {
      "cell_type": "markdown",
      "source": [
        "Отримайте рекомендації для певного користувача:"
      ],
      "metadata": {
        "id": "ihSPw6vX0gCO"
      }
    },
    {
      "cell_type": "code",
      "source": [
        "\n",
        "user_id = '196'\n",
        "\n",
        "user_ratings = trainset.ur[trainset.to_inner_uid(user_id)]\n",
        "rated_items = [item_id for (item_id, rating) in user_ratings]\n",
        "\n",
        "\n",
        "items_not_rated = [item for item in trainset.all_items() if item not in rated_items]\n",
        "\n",
        "predictions = [algo_svd.predict(user_id, trainset.to_raw_iid(item)) for item in items_not_rated]\n",
        "\n",
        "top_10 = sorted(predictions, key=lambda x: x.est, reverse=True)[:10]\n",
        "\n",
        "print(\"\\nТоп-10 рекомендацій для користувача:\")\n",
        "for prediction in top_10:\n",
        "    print(f\"Movie ID: {prediction.iid}, Estimated Rating: {prediction.est:.2f}\")\n"
      ],
      "metadata": {
        "colab": {
          "base_uri": "https://localhost:8080/"
        },
        "id": "crBSTEtL0gLj",
        "outputId": "bd8f2fac-7bb0-43c1-87d8-134efe4873a3"
      },
      "execution_count": 29,
      "outputs": [
        {
          "output_type": "stream",
          "name": "stdout",
          "text": [
            "\n",
            "Топ-10 рекомендацій для користувача:\n",
            "Movie ID: 64, Estimated Rating: 4.65\n",
            "Movie ID: 318, Estimated Rating: 4.64\n",
            "Movie ID: 510, Estimated Rating: 4.57\n",
            "Movie ID: 98, Estimated Rating: 4.56\n",
            "Movie ID: 483, Estimated Rating: 4.49\n",
            "Movie ID: 89, Estimated Rating: 4.48\n",
            "Movie ID: 641, Estimated Rating: 4.47\n",
            "Movie ID: 661, Estimated Rating: 4.42\n",
            "Movie ID: 134, Estimated Rating: 4.40\n",
            "Movie ID: 272, Estimated Rating: 4.40\n"
          ]
        }
      ]
    }
  ]
}