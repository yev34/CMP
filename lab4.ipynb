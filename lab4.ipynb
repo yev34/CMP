{
 "cells": [
  {
   "cell_type": "code",
   "execution_count": 1,
   "metadata": {},
   "outputs": [
    {
     "name": "stdout",
     "output_type": "stream",
     "text": [
      "[[ 1  2]\n",
      " [ 4 -1]]\n",
      "[[ 2 -3]\n",
      " [-4  1]]\n",
      "[[ -6  -1]\n",
      " [ 12 -13]]\n",
      "[[-10   7]\n",
      " [  0  -9]]\n",
      "[[ 4 -8]\n",
      " [12 -4]]\n"
     ]
    }
   ],
   "source": [
    "import numpy as np\n",
    "import math\n",
    "m_sqr_arr = np.array([[1, 2], [4, -1]]) \n",
    "print(m_sqr_arr)\n",
    "m_sqr_mx = np.matrix([[ 2, -3], [-4, 1]]) \n",
    "print(m_sqr_mx)\n",
    "c=m_sqr_arr.dot(m_sqr_mx)\n",
    "print(c)\n",
    "k=m_sqr_mx.dot(m_sqr_arr)\n",
    "print(k)\n",
    "result=c-k\n",
    "print (result)\n"
   ]
  },
  {
   "cell_type": "code",
   "execution_count": 2,
   "metadata": {},
   "outputs": [
    {
     "name": "stdout",
     "output_type": "stream",
     "text": [
      "[[-1  2]\n",
      " [ 0  1]]\n",
      "[[1 0]\n",
      " [0 1]]\n"
     ]
    }
   ],
   "source": [
    "import numpy as np\n",
    "import math\n",
    "m_sqr_arr = np.array([[-1, 2], [0, 1]]) \n",
    "print(m_sqr_arr)\n",
    "c = m_sqr_arr.dot(m_sqr_arr)\n",
    "print(c)\n"
   ]
  },
  {
   "cell_type": "code",
   "execution_count": 3,
   "metadata": {},
   "outputs": [
    {
     "name": "stdout",
     "output_type": "stream",
     "text": [
      "[[ 3  5]\n",
      " [ 6 -1]]\n",
      "[[ 2  1]\n",
      " [-3  2]]\n",
      "[[-9 13]\n",
      " [15  4]]\n"
     ]
    }
   ],
   "source": [
    "m_sqr_arr = np.array([[3, 5], [6, -1]]) \n",
    "print(m_sqr_arr)\n",
    "m_sqr_mx = np.matrix([[ 2, 1], [-3, 2]]) \n",
    "print(m_sqr_mx)\n",
    "c=m_sqr_arr.dot(m_sqr_mx)\n",
    "print(c)\n"
   ]
  },
  {
   "cell_type": "code",
   "execution_count": 4,
   "metadata": {},
   "outputs": [
    {
     "name": "stdout",
     "output_type": "stream",
     "text": [
      "[[2 3 4]\n",
      " [1 0 4]\n",
      " [7 8 9]]\n",
      "25\n"
     ]
    }
   ],
   "source": [
    "a = np.matrix('2 3 4; 1 0 4; 7 8 9')\n",
    "print(a)\n",
    "a_det = np.linalg.det(a) \n",
    "print(format(a_det, '.9g'))\n"
   ]
  },
  {
   "cell_type": "code",
   "execution_count": 5,
   "metadata": {},
   "outputs": [
    {
     "name": "stdout",
     "output_type": "stream",
     "text": [
      "[[2 3 4 1]\n",
      " [1 2 3 4]\n",
      " [3 4 1 2]\n",
      " [4 1 2 3]]\n",
      "-160\n"
     ]
    }
   ],
   "source": [
    "a = np.matrix('2 3 4 1; 1 2 3 4; 3 4 1 2; 4 1 2 3')\n",
    "print(a)\n",
    "a_det = np.linalg.det(a) \n",
    "print(format(a_det, '.9g'))\n"
   ]
  },
  {
   "cell_type": "code",
   "execution_count": 6,
   "metadata": {},
   "outputs": [
    {
     "name": "stdout",
     "output_type": "stream",
     "text": [
      "[[ 1. -2.  7.]\n",
      " [ 0.  1. -2.]\n",
      " [ 0.  0.  1.]]\n"
     ]
    }
   ],
   "source": [
    "A = np.matrix('1 2 -3; 0 1 2; 0 0 1')\n",
    "A_inv = np.linalg.inv(A)\n",
    "print(A_inv)\n"
   ]
  },
  {
   "cell_type": "code",
   "execution_count": 7,
   "metadata": {},
   "outputs": [
    {
     "name": "stdout",
     "output_type": "stream",
     "text": [
      "2\n"
     ]
    }
   ],
   "source": [
    "A = np.matrix('1 2 3 4; 3 -1 2 5; 1 2 3 4; 1 3 4 5')\n",
    "rank = np.linalg.matrix_rank(A)\n",
    "print(rank)\n"
   ]
  },
  {
   "cell_type": "code",
   "execution_count": 8,
   "metadata": {},
   "outputs": [
    {
     "name": "stdout",
     "output_type": "stream",
     "text": [
      "A= [[ 1 -2  3]\n",
      " [ 4  2 -3]\n",
      " [ 3 -3  5]]\n",
      "B= [[-5]\n",
      " [ 0]\n",
      " [-9]]\n",
      "[[ 0.2  0.2  0. ]\n",
      " [-5.8 -0.8  3. ]\n",
      " [-3.6 -0.6  2. ]]\n",
      "X= [[-1.]\n",
      " [ 2.]\n",
      " [ 0.]]\n"
     ]
    }
   ],
   "source": [
    "A = np.matrix('1 -2 3; 4 2 -3; 3 -3 5')\n",
    "B = np.matrix('-5; 0; -9')\n",
    "print('A=', A)\n",
    "print('B=',B)\n",
    "A_inv = np.linalg.inv(A)\n",
    "print(A_inv)\n",
    "X = A_inv.dot(B)\n",
    "print('X=',X)\n"
   ]
  }
 ],
 "metadata": {
  "kernelspec": {
   "display_name": "Python 3.9.7 ('studysession': venv)",
   "language": "python",
   "name": "python3"
  },
  "language_info": {
   "codemirror_mode": {
    "name": "ipython",
    "version": 3
   },
   "file_extension": ".py",
   "mimetype": "text/x-python",
   "name": "python",
   "nbconvert_exporter": "python",
   "pygments_lexer": "ipython3",
   "version": "3.9.7"
  },
  "orig_nbformat": 4,
  "vscode": {
   "interpreter": {
    "hash": "7f63a7416073098c0000a0c407c5f00f755623e9bfe69d338d7decbf4b8c594f"
   }
  }
 },
 "nbformat": 4,
 "nbformat_minor": 2
}
