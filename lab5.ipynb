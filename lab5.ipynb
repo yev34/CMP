{
 "cells": [
  {
   "cell_type": "code",
   "execution_count": 1,
   "metadata": {},
   "outputs": [
    {
     "name": "stdout",
     "output_type": "stream",
     "text": [
      "Simple iteration:\n",
      "x= -0.9726870847676409 \n",
      "y= -1.9022600037038557 \n",
      "The amount of iteration =  10\n"
     ]
    }
   ],
   "source": [
    "import numpy as np\n",
    "from scipy import optimize\n",
    "from scipy.misc import derivative\n",
    "import math\n",
    "\n",
    "x0 = -0.08\n",
    "y0 = -1.1\n",
    "delta = 0.1\n",
    "\n",
    "def f1(x):\n",
    "    return math.cos(x-0.5) - 2 \n",
    "def f2 (y):\n",
    "    return (math.sin(y) - 1)/2 \n",
    "\n",
    " \n",
    "def iter (x,y,e):\n",
    "    xn = x\n",
    "    yn = y\n",
    "    xn1 = f2(x)\n",
    "    yn1 = f1(y)\n",
    "    n = 1\n",
    "    while ((abs(xn1-xn)>=e) & (abs(yn1-yn) >=e)):\n",
    "        xn = xn1\n",
    "        yn = yn1\n",
    "        xn1 = f2(yn)\n",
    "        yn1 = f1(xn)\n",
    "        n += 1\n",
    "    print ('Simple iteration:')\n",
    "    print ('x=', xn, '\\ny=',yn,'\\nThe amount of iteration = ',n)\n",
    "iter(x0,y0,0.0001)\n",
    "\n",
    "def f3(x): #Задаємо функцію для перевірки\n",
    "    return math.cos(x[0]+0.5) -x[1] - 2, x[0]-2*math.sin(x[1] ) - 2\n",
    "s = optimize.root(f3, [0.,0.], method = 'hybr')"
   ]
  }
 ],
 "metadata": {
  "kernelspec": {
   "display_name": "Python 3.9.7 ('studysession': venv)",
   "language": "python",
   "name": "python3"
  },
  "language_info": {
   "codemirror_mode": {
    "name": "ipython",
    "version": 3
   },
   "file_extension": ".py",
   "mimetype": "text/x-python",
   "name": "python",
   "nbconvert_exporter": "python",
   "pygments_lexer": "ipython3",
   "version": "3.9.7"
  },
  "orig_nbformat": 4,
  "vscode": {
   "interpreter": {
    "hash": "7f63a7416073098c0000a0c407c5f00f755623e9bfe69d338d7decbf4b8c594f"
   }
  }
 },
 "nbformat": 4,
 "nbformat_minor": 2
}
