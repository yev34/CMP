{
  "nbformat": 4,
  "nbformat_minor": 0,
  "metadata": {
    "colab": {
      "provenance": [],
      "authorship_tag": "ABX9TyOnYiweQYw2cAPp6DRmiLo1",
      "include_colab_link": true
    },
    "kernelspec": {
      "name": "python3",
      "display_name": "Python 3"
    },
    "language_info": {
      "name": "python"
    }
  },
  "cells": [
    {
      "cell_type": "markdown",
      "metadata": {
        "id": "view-in-github",
        "colab_type": "text"
      },
      "source": [
        "<a href=\"https://colab.research.google.com/github/yev34/Machine-learning/blob/main/%D0%9F%D0%B0%D1%82%D0%B0%D0%BB%D0%B0%D1%88%D0%BA%D0%BE_%D0%BB%D0%B0%D0%B1_7_2.ipynb\" target=\"_parent\"><img src=\"https://colab.research.google.com/assets/colab-badge.svg\" alt=\"Open In Colab\"/></a>"
      ]
    },
    {
      "cell_type": "code",
      "source": [
        "!pip install scikit-surprise"
      ],
      "metadata": {
        "colab": {
          "base_uri": "https://localhost:8080/"
        },
        "id": "nkTuDspJ9SGP",
        "outputId": "653c4325-7236-4b35-b887-09ed2d0cb6d9"
      },
      "execution_count": 2,
      "outputs": [
        {
          "output_type": "stream",
          "name": "stdout",
          "text": [
            "Collecting scikit-surprise\n",
            "  Downloading scikit_surprise-1.1.4.tar.gz (154 kB)\n",
            "\u001b[?25l     \u001b[90m━━━━━━━━━━━━━━━━━━━━━━━━━━━━━━━━━━━━━━━━\u001b[0m \u001b[32m0.0/154.4 kB\u001b[0m \u001b[31m?\u001b[0m eta \u001b[36m-:--:--\u001b[0m\r\u001b[2K     \u001b[90m━━━━━━━━━━━━━━━━━━━━━━━━━━━━━━━━━━━━━━━━\u001b[0m \u001b[32m154.4/154.4 kB\u001b[0m \u001b[31m6.6 MB/s\u001b[0m eta \u001b[36m0:00:00\u001b[0m\n",
            "\u001b[?25h  Installing build dependencies ... \u001b[?25l\u001b[?25hdone\n",
            "  Getting requirements to build wheel ... \u001b[?25l\u001b[?25hdone\n",
            "  Preparing metadata (pyproject.toml) ... \u001b[?25l\u001b[?25hdone\n",
            "Requirement already satisfied: joblib>=1.2.0 in /usr/local/lib/python3.10/dist-packages (from scikit-surprise) (1.4.2)\n",
            "Requirement already satisfied: numpy>=1.19.5 in /usr/local/lib/python3.10/dist-packages (from scikit-surprise) (1.26.4)\n",
            "Requirement already satisfied: scipy>=1.6.0 in /usr/local/lib/python3.10/dist-packages (from scikit-surprise) (1.13.1)\n",
            "Building wheels for collected packages: scikit-surprise\n",
            "  Building wheel for scikit-surprise (pyproject.toml) ... \u001b[?25l\u001b[?25hdone\n",
            "  Created wheel for scikit-surprise: filename=scikit_surprise-1.1.4-cp310-cp310-linux_x86_64.whl size=2357274 sha256=1a8e2b17dacb3b94be4011aaa7e380cf7fd5f981228d81e0b403133356aabec2\n",
            "  Stored in directory: /root/.cache/pip/wheels/4b/3f/df/6acbf0a40397d9bf3ff97f582cc22fb9ce66adde75bc71fd54\n",
            "Successfully built scikit-surprise\n",
            "Installing collected packages: scikit-surprise\n",
            "Successfully installed scikit-surprise-1.1.4\n"
          ]
        }
      ]
    },
    {
      "cell_type": "code",
      "execution_count": 3,
      "metadata": {
        "colab": {
          "base_uri": "https://localhost:8080/"
        },
        "id": "9c1RYM0k9MTB",
        "outputId": "62400013-d134-452f-9fe9-bd0dbc33fa4c"
      },
      "outputs": [
        {
          "output_type": "stream",
          "name": "stdout",
          "text": [
            "Mounted at /content/drive\n"
          ]
        }
      ],
      "source": [
        "from surprise import Dataset, Reader\n",
        "from surprise import SVD, KNNBasic\n",
        "from surprise.model_selection import cross_validate, GridSearchCV\n",
        "from surprise import accuracy\n",
        "from surprise.model_selection import train_test_split\n",
        "import pandas as pd\n",
        "from google.colab import drive\n",
        "\n",
        "\n",
        "drive.mount('/content/drive')"
      ]
    },
    {
      "cell_type": "code",
      "source": [
        "file_path = '/content/drive/My Drive/user_rating_history.csv'\n",
        "data = pd.read_csv(file_path)\n",
        "\n",
        "print(data.columns)\n",
        "print(data.info())\n",
        "\n",
        "data.dropna(inplace=True)\n",
        "\n",
        "reader = Reader(rating_scale=(data['rating'].min(), data['rating'].max()))\n",
        "dataset = Dataset.load_from_df(data[['userId', 'movieId', 'rating']], reader)\n",
        "\n",
        "trainset, testset = train_test_split(dataset, test_size=0.2)\n",
        "\n",
        "model = SVD()\n",
        "model.fit(trainset)\n",
        "\n",
        "predictions = model.test(testset)\n",
        "\n",
        "rmse = accuracy.rmse(predictions)\n",
        "\n",
        "print(f\"RMSE: {rmse}\")\n",
        "\n",
        "user_id = 1\n",
        "item_ids = data['movieId'].unique()\n",
        "user_predictions = [(item_id, model.predict(user_id, item_id).est) for item_id in item_ids]\n",
        "user_predictions.sort(key=lambda x: x[1], reverse=True)\n",
        "\n",
        "print(\"Топ 5 рекомендацій для юзера:\", user_id)\n",
        "for item_id, predicted_rating in user_predictions[:5]:\n",
        "    print(f\"Item ID: {item_id}, Predicted Rating: {predicted_rating:.2f}\")"
      ],
      "metadata": {
        "colab": {
          "base_uri": "https://localhost:8080/"
        },
        "id": "Dua4OWii9zpo",
        "outputId": "109a6e3c-f26e-4fdf-8734-f89b9cfd0f58"
      },
      "execution_count": 13,
      "outputs": [
        {
          "output_type": "stream",
          "name": "stdout",
          "text": [
            "Index(['userId', 'movieId', 'rating', 'tstamp'], dtype='object')\n",
            "<class 'pandas.core.frame.DataFrame'>\n",
            "RangeIndex: 2046124 entries, 0 to 2046123\n",
            "Data columns (total 4 columns):\n",
            " #   Column   Dtype  \n",
            "---  ------   -----  \n",
            " 0   userId   int64  \n",
            " 1   movieId  int64  \n",
            " 2   rating   float64\n",
            " 3   tstamp   object \n",
            "dtypes: float64(1), int64(2), object(1)\n",
            "memory usage: 62.4+ MB\n",
            "None\n",
            "RMSE: 1.0774\n",
            "RMSE: 1.0774438636844688\n",
            "Топ 5 рекомендацій для юзера: 1\n",
            "Item ID: 287691, Predicted Rating: 4.03\n",
            "Item ID: 258001, Predicted Rating: 3.98\n",
            "Item ID: 296831, Predicted Rating: 3.97\n",
            "Item ID: 218009, Predicted Rating: 3.93\n",
            "Item ID: 234404, Predicted Rating: 3.91\n"
          ]
        }
      ]
    }
  ]
}