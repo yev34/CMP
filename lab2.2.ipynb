{
 "cells": [
  {
   "cell_type": "code",
   "execution_count": 1,
   "metadata": {},
   "outputs": [
    {
     "name": "stdout",
     "output_type": "stream",
     "text": [
      "Метод хорд.Корінь знаходиться в точці x = -1.356076562120311\n"
     ]
    }
   ],
   "source": [
    "import numpy as np\n",
    "import math\n",
    "from scipy.misc import derivative\n",
    "def f(x):\n",
    "    return 6*pow(x,4) +4*pow(x,3) - pow(x,2) - x - 10\n",
    "a = -3\n",
    "b = -1/2\n",
    "\n",
    "eps = 0.001 #точність\n",
    "def hord (a, b, eps):\n",
    "    if abs(b - a) < eps:\n",
    "        print('Кореня немає')\n",
    "        return\n",
    "    if (f(a)*derivative(f, a, n = 2)):\n",
    "        x0 = a\n",
    "        xi = b\n",
    "    else:\n",
    "        x0 = b\n",
    "        xi = a\n",
    "    xi_1 = xi-(xi - x0) * f(xi)/(f(xi) - f(x0))\n",
    "    while (abs(xi_1 - xi) > eps):\n",
    "        xi = xi_1\n",
    "        xi_1 = xi-(xi - x0) * f(xi)/(f(xi) - f(x0))     \n",
    "    else:\n",
    "        print(f'Метод хорд.Корінь знаходиться в точці x =', xi_1)\n",
    "hord(a,b,eps)\n"
   ]
  }
 ],
 "metadata": {
  "kernelspec": {
   "display_name": "Python 3.9.7 ('studysession': venv)",
   "language": "python",
   "name": "python3"
  },
  "language_info": {
   "codemirror_mode": {
    "name": "ipython",
    "version": 3
   },
   "file_extension": ".py",
   "mimetype": "text/x-python",
   "name": "python",
   "nbconvert_exporter": "python",
   "pygments_lexer": "ipython3",
   "version": "3.9.7"
  },
  "orig_nbformat": 4,
  "vscode": {
   "interpreter": {
    "hash": "7f63a7416073098c0000a0c407c5f00f755623e9bfe69d338d7decbf4b8c594f"
   }
  }
 },
 "nbformat": 4,
 "nbformat_minor": 2
}
